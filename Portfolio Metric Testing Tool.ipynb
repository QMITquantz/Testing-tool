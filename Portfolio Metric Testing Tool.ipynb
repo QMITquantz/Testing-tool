{
 "cells": [
  {
   "cell_type": "code",
   "execution_count": null,
   "metadata": {},
   "outputs": [],
   "source": [
    "import pandas as pd\n",
    "import numpy as np\n",
    "import math as mt"
   ]
  },
  {
   "cell_type": "markdown",
   "metadata": {},
   "source": [
    "#### Daily Return Metrics"
   ]
  },
  {
   "cell_type": "code",
   "execution_count": null,
   "metadata": {},
   "outputs": [],
   "source": [
    "#This cell reads both excel files\n",
    "xls = pd.ExcelFile(\"2008_2009_constituent_aws_ranked.xlsx\")\n",
    "xls1 = pd.ExcelFile(\"LBO - 24y.xlsx\")\n",
    "positions = pd.read_excel(xls)\n",
    "returns = pd.read_excel(xls1, 'Dailies')\n",
    "positions.drop(0,axis = 0 ,inplace = True)\n",
    "positions = positions.reset_index()\n",
    "positions.drop(columns = ['index'], axis = 1, inplace = True)"
   ]
  },
  {
   "cell_type": "code",
   "execution_count": null,
   "metadata": {},
   "outputs": [],
   "source": [
    "usr = input(\"Please choose of the following numbers:\\n \\\n",
    "            1. Verify the LBO100 portfolio return for a single day based on positions in the 2y hist from 2008-09.\\n \\\n",
    "            2. Verify the LBO100 portfolio return for a range of dates based on positions in the 2y hist from 2008-09.\\n\")\n",
    "avg = []\n",
    "ret = []\n",
    "final = pd.DataFrame(columns = ['Date', 'Calculated Returns','QMIT Reported Returns'])\n",
    "if(usr == '1'):\n",
    "    dt = input('Please enter the date in an mm/dd/yyyy format.\\n')\n",
    "    date = pd.to_datetime(dt, format=\"%m/%d/%Y\")\n",
    "    alist = positions.loc[positions['Periods'] == date]['Returns'].values\n",
    "    blist = returns.loc[returns['Date'] == date]['LBO (T+1) Return'].values\n",
    "    if alist.any():\n",
    "        avg = np.average(alist)\n",
    "        print(\"Calculated Portfolio Returns as per 2008_2009_constituent_aws_ranked.xlsx for requested date:\", round(avg,2))\n",
    "    else:\n",
    "        print(\"Date not found in the Position dataset.\")\n",
    "    if blist.any():    \n",
    "        ret = blist[0]\n",
    "        print(\"QMIT Reported Portfolio Returns as per LBO profile - 19y.xlsm for requested date:\", round(ret,2))\n",
    "    else:\n",
    "        print(\"Date not found in the Return dataset.\")\n",
    "elif(usr == '2'):\n",
    "    dt = input('Please enter the start date in an mm/dd/yyyy format within 2008-2009.\\n')\n",
    "    dt1 = input('Please enter the end date in an mm/dd/yyyy format within 2008-2009.\\n')\n",
    "    date = pd.to_datetime(dt, format=\"%m/%d/%Y\")\n",
    "    date1 = pd.to_datetime(dt1, format=\"%m/%d/%Y\")\n",
    "    if(date>date1):\n",
    "        print(\"Invalid Dates: End date is before the Start date. Please re-run the cell.\")\n",
    "    else:\n",
    "        alist = positions.loc[(positions['Periods']>=date) & (positions['Periods']<=date1)]\n",
    "        blist = returns.loc[(returns['Date']>=date) & (returns['Date']<=date1)]\n",
    "        if alist['Returns'].values.any():\n",
    "            for i in range(alist['Periods'].nunique()):\n",
    "                avg.append(np.average(positions.loc[positions['Periods'] == alist['Periods'].unique()[i]]['Returns'].values))\n",
    "            final.loc[:,'Date'] = pd.to_datetime(blist['Date'].unique())\n",
    "            final.loc[:,'Calculated Returns'] = np.round(avg,2)\n",
    "        else:\n",
    "            print(\"Date not found in the Position dataset.\")\n",
    "        if blist['LBO (T+1) Return'].values.any():\n",
    "            for i in range(blist['Date'].nunique()):\n",
    "                ret.append(returns.loc[returns['Date'] == blist['Date'].unique()[i]]['LBO (T+1) Return'].values)\n",
    "            final.loc[:,'QMIT Reported Returns'] = np.round(ret,2)\n",
    "            print(final.to_string())\n",
    "        else:\n",
    "            print(\"Date not found in the Return dataset.\")\n",
    "else:\n",
    "    print('The number chosen is invalid. Please re-run the cell and select either 1 or 2.')    "
   ]
  },
  {
   "cell_type": "markdown",
   "metadata": {},
   "source": [
    "#### Performance Metrics"
   ]
  },
  {
   "cell_type": "code",
   "execution_count": null,
   "metadata": {},
   "outputs": [],
   "source": [
    "#Replicating the Annualized Return for LBO over entire 19y\n",
    "temp = []\n",
    "for i in range(len(returns)):\n",
    "    temp.append((1+returns['LBO (T+1) Return'].iloc[i]/100))\n",
    "ret = (np.prod(temp)**(252/len(returns))-1)*100\n",
    "print(\"Annualized LTD Return:\", round(ret,2))"
   ]
  },
  {
   "cell_type": "code",
   "execution_count": null,
   "metadata": {},
   "outputs": [],
   "source": [
    "#Replicating the Annualized Volatility & Downside Deviation\n",
    "vol = pd.DataFrame(columns  = ['Value'])\n",
    "# for i in range (len(returns)):\n",
    "vol.loc['Vol_B', 'Value'] = returns['LBO (T+1) Return'].std()\n",
    "vol.loc['Annualized Vol_B','Value'] = vol.loc['Vol_B','Value']*mt.sqrt(252)\n",
    "vol.loc['Downside Dev','Value'] = np.sqrt(np.sum(returns[returns.loc[:,'LBO (T+1) Return']<0].loc[:,'LBO (T+1) Return'].values**2)/len(returns))\n",
    "vol.loc['Ann Downside Dev','Value'] = vol.loc['Downside Dev','Value']*np.sqrt(252)\n",
    "print(\"Annualized LTD Vol:\", round(vol.loc['Annualized Vol_B','Value'],2))"
   ]
  },
  {
   "cell_type": "code",
   "execution_count": null,
   "metadata": {},
   "outputs": [],
   "source": [
    "#Sharpe\n",
    "sharpe = ret/vol.loc['Annualized Vol_B','Value']\n",
    "print(\"Sharpe:\", round(sharpe,2))"
   ]
  },
  {
   "cell_type": "code",
   "execution_count": null,
   "metadata": {},
   "outputs": [],
   "source": [
    "#Sortino\n",
    "sortino = ret/vol.loc['Ann Downside Dev','Value']\n",
    "print(\"Sortino:\", round(sortino,2))"
   ]
  },
  {
   "cell_type": "code",
   "execution_count": null,
   "metadata": {},
   "outputs": [],
   "source": [
    "#Beta to S&P500\n",
    "betasp = np.cov(returns['LBO (T+1) Return'], returns['SPX (T+1) Return'])[0][1]/np.cov(returns['LBO (T+1) Return'], returns['SPX (T+1) Return'])[1][1]\n",
    "print(\"Beta to S&P500:\", round(betasp,2))"
   ]
  },
  {
   "cell_type": "code",
   "execution_count": null,
   "metadata": {},
   "outputs": [],
   "source": [
    "#Skew & Kurtosis\n",
    "temps = []\n",
    "tempk = []\n",
    "avg = np.average(returns['LBO (T+1) Return'])\n",
    "std = np.std(returns['LBO (T+1) Return'])\n",
    "for i in range(len(returns)):\n",
    "    temps.append((returns['LBO (T+1) Return'].values[i] - avg)**3)  \n",
    "    tempk.append((returns['LBO (T+1) Return'].values[i] - avg)**4)    \n",
    "skew = (np.average(temps)/std**3)\n",
    "kurt = (np.average(tempk)/std**4) - 3\n",
    "print(\"Skew: \", round(skew,2))\n",
    "print(\"Kurtosis: \", round(kurt,2))"
   ]
  },
  {
   "cell_type": "code",
   "execution_count": null,
   "metadata": {},
   "outputs": [],
   "source": []
  }
 ],
 "metadata": {
  "kernelspec": {
   "display_name": "ahab_env",
   "language": "python",
   "name": "python3"
  },
  "language_info": {
   "codemirror_mode": {
    "name": "ipython",
    "version": 3
   },
   "file_extension": ".py",
   "mimetype": "text/x-python",
   "name": "python",
   "nbconvert_exporter": "python",
   "pygments_lexer": "ipython3",
   "version": "3.8.16"
  }
 },
 "nbformat": 4,
 "nbformat_minor": 2
}
