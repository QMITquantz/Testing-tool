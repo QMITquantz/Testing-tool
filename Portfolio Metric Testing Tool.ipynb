{
 "cells": [
  {
   "cell_type": "code",
   "execution_count": 1,
   "metadata": {},
   "outputs": [],
   "source": [
    "import pandas as pd\n",
    "import pandas_datareader.data as web\n",
    "import numpy as np\n",
    "import math as mt\n",
    "import calendar\n",
    "import matplotlib.pyplot as plt\n",
    "import six\n",
    "from reportlab.pdfgen.canvas import Canvas\n",
    "from PIL import Image\n",
    "from PyPDF2 import PdfFileWriter, PdfFileReader, PdfFileMerger\n",
    "import io\n",
    "import os\n",
    "from reportlab.pdfgen import canvas\n",
    "from reportlab.lib.pagesizes import letter\n",
    "import imgkit\n",
    "import seaborn as sns\n",
    "import datetime"
   ]
  },
  {
   "cell_type": "markdown",
   "metadata": {},
   "source": [
    "#### Daily Return Metrics"
   ]
  },
  {
   "cell_type": "code",
   "execution_count": 2,
   "metadata": {},
   "outputs": [],
   "source": [
    "xls = pd.ExcelFile(\"2008_2009_constituent_aws_ranked.xlsx\")\n",
    "xls1 = pd.ExcelFile(\"LBO profile - 19y.xlsm\")\n",
    "positions = pd.read_excel(xls)\n",
    "returns = pd.read_excel(xls1, sheet = 'Dailies')\n",
    "positions.drop(0,axis = 0 ,inplace = True)\n",
    "positions = positions.reset_index()\n",
    "positions.drop(columns = ['index'], axis = 1, inplace = True)"
   ]
  },
  {
   "cell_type": "code",
   "execution_count": 12,
   "metadata": {},
   "outputs": [
    {
     "name": "stdout",
     "output_type": "stream",
     "text": [
      "Please choose of the following numbers:\n",
      "             1. Verify the LBO100 portfolio return for a single day.\n",
      "             2. Verify the LBO100 portfolio return for a range of dates.\n",
      "2\n",
      "Please enter the start date in an mm/dd/yyyy format.\n",
      "11/14/2008\n",
      "Please enter the end date in an mm/dd/yyyy format.\n",
      "11/21/2008\n",
      "Calculated Portfolio Returns for  2008-11-14 00:00:00  is:  -2.17\n",
      "Calculated Portfolio Returns for  2008-11-17 00:00:00  is:  -1.04\n",
      "Calculated Portfolio Returns for  2008-11-18 00:00:00  is:  -8.86\n",
      "Calculated Portfolio Returns for  2008-11-19 00:00:00  is:  -6.85\n",
      "Calculated Portfolio Returns for  2008-11-20 00:00:00  is:  5.23\n",
      "Calculated Portfolio Returns for  2008-11-21 00:00:00  is:  8.07\n",
      "QMIT Reported Portfolio Returns for  2008-11-14 00:00:00  is:  -2.17\n",
      "QMIT Reported Portfolio Returns for  2008-11-17 00:00:00  is:  -1.04\n",
      "QMIT Reported Portfolio Returns for  2008-11-18 00:00:00  is:  -8.86\n",
      "QMIT Reported Portfolio Returns for  2008-11-19 00:00:00  is:  -6.85\n",
      "QMIT Reported Portfolio Returns for  2008-11-20 00:00:00  is:  5.23\n",
      "QMIT Reported Portfolio Returns for  2008-11-21 00:00:00  is:  8.07\n"
     ]
    }
   ],
   "source": [
    "usr = input(\"Please choose of the following numbers:\\n \\\n",
    "            1. Verify the LBO100 portfolio return for a single day.\\n \\\n",
    "            2. Verify the LBO100 portfolio return for a range of dates.\\n\")\n",
    "avg = []\n",
    "ret = []\n",
    "if(usr == '1'):\n",
    "    dt = input('Please enter the date in an mm/dd/yyyy format.\\n')\n",
    "    date = pd.to_datetime(dt, format=\"%m/%d/%Y\")\n",
    "    alist = positions.loc[positions['Periods'] == date]['Returns'].values\n",
    "    blist = returns.loc[returns['Date'] == date]['LBO (T+1) Return'].values\n",
    "    if alist.any():\n",
    "        avg = np.average(alist)\n",
    "        print(\"Calculated Portfolio Returns for requested date   :  \", round(avg,2))\n",
    "    else:\n",
    "        print(\"Date not found in the Position dataset.\")\n",
    "    if blist.any():    \n",
    "        ret = blist[0]\n",
    "        print(\"QMIT Reported Portfolio Returns for requested date:  \", round(ret,2))\n",
    "    else:\n",
    "        print(\"Date not found in the Return dataset.\")\n",
    "elif(usr == '2'):\n",
    "    dt = input('Please enter the start date in an mm/dd/yyyy format.\\n')\n",
    "    dt1 = input('Please enter the end date in an mm/dd/yyyy format.\\n')\n",
    "    date = pd.to_datetime(dt, format=\"%m/%d/%Y\")\n",
    "    date1 = pd.to_datetime(dt1, format=\"%m/%d/%Y\")\n",
    "    if(date>date1):\n",
    "        print(\"Invalid Dates: End date is before the Start date. Please re-run the cell.\")\n",
    "    else:\n",
    "        alist = positions.loc[(positions['Periods']>=date) & (positions['Periods']<=date1)]\n",
    "        blist = returns.loc[(returns['Date']>=date) & (returns['Date']<=date1)]\n",
    "        if alist['Returns'].values.any():\n",
    "            for i in range(alist['Periods'].nunique()):\n",
    "                avg.append(np.average(positions.loc[positions['Periods'] == alist['Periods'].unique()[i]]['Returns'].values))\n",
    "            for i in range(alist['Periods'].nunique()):\n",
    "                print(\"Calculated Portfolio Returns for \",pd.to_datetime(alist['Periods'].unique()[i]), \" is: \", round(avg[i],2))\n",
    "        else:\n",
    "            print(\"Date not found in the Position dataset.\")\n",
    "        if blist['LBO (T+1) Return'].values.any():\n",
    "            for i in range(blist['Date'].nunique()):\n",
    "                ret.append(returns.loc[returns['Date'] == blist['Date'].unique()[i]]['LBO (T+1) Return'].values)\n",
    "            for i in range(blist['Date'].nunique()):\n",
    "                print(\"QMIT Reported Portfolio Returns for \",pd.to_datetime(blist['Date'].unique()[i]), \" is: \", \n",
    "                      np.round(ret[i],2)[0])\n",
    "        else:\n",
    "            print(\"Date not found in the Return dataset.\")\n",
    "else:\n",
    "    print('The number chosen is invalid. Please re-run the cell and select either 1 or 2.')    "
   ]
  },
  {
   "cell_type": "markdown",
   "metadata": {},
   "source": [
    "#### Performance Metrics"
   ]
  },
  {
   "cell_type": "code",
   "execution_count": 13,
   "metadata": {},
   "outputs": [
    {
     "data": {
      "text/plain": [
       "22.11484060486233"
      ]
     },
     "execution_count": 13,
     "metadata": {},
     "output_type": "execute_result"
    }
   ],
   "source": [
    "#Annualized Return\n",
    "temp = []\n",
    "for i in range(len(returns)):\n",
    "    temp.append((1+returns['LBO (T+1) Return'].iloc[i]/100))\n",
    "ret = (np.prod(temp)**(251/len(returns))-1)*100\n",
    "ret"
   ]
  },
  {
   "cell_type": "code",
   "execution_count": 14,
   "metadata": {},
   "outputs": [],
   "source": [
    "#Annualized Volatility\n",
    "vol = pd.DataFrame(columns  = ['Value'])\n",
    "# for i in range (len(returns)):\n",
    "vol.loc['Vol_B', 'Value'] = returns['LBO (T+1) Return'].std()\n",
    "vol.loc['Annualized Vol_B','Value'] = vol.loc['Vol_B','Value']*mt.sqrt(251)\n",
    "vol.loc['Neg Vol_B','Value'] = returns[returns.loc[:,'LBO (T+1) Return']<0].loc[:,'LBO (T+1) Return'].std()\n",
    "vol.loc['Neg Annualized Vol_B','Value'] = vol.loc['Neg Vol_B','Value']*mt.sqrt(251)\n",
    "# vol"
   ]
  },
  {
   "cell_type": "code",
   "execution_count": 15,
   "metadata": {},
   "outputs": [
    {
     "data": {
      "text/plain": [
       "0.9303125500997996"
      ]
     },
     "execution_count": 15,
     "metadata": {},
     "output_type": "execute_result"
    }
   ],
   "source": [
    "#Sharpe\n",
    "sharpe = ret/vol.loc['Annualized Vol_B','Value']\n",
    "sharpe"
   ]
  },
  {
   "cell_type": "code",
   "execution_count": 7,
   "metadata": {},
   "outputs": [
    {
     "data": {
      "text/plain": [
       "1.30548091627026"
      ]
     },
     "execution_count": 7,
     "metadata": {},
     "output_type": "execute_result"
    }
   ],
   "source": [
    "#Sortino\n",
    "sortino = ret/vol.loc['Neg Annualized Vol_B','Value']\n",
    "sortino"
   ]
  },
  {
   "cell_type": "code",
   "execution_count": 8,
   "metadata": {},
   "outputs": [
    {
     "data": {
      "text/plain": [
       "1.0919225850580654"
      ]
     },
     "execution_count": 8,
     "metadata": {},
     "output_type": "execute_result"
    }
   ],
   "source": [
    "#Beta to S&P500\n",
    "betasp = np.cov(returns['LBO (T+1) Return'], returns['SPX (T+1) Return'])[0][1]/np.cov(returns['LBO (T+1) Return'], returns['SPX (T+1) Return'])[1][1]\n",
    "betasp"
   ]
  },
  {
   "cell_type": "code",
   "execution_count": 9,
   "metadata": {},
   "outputs": [
    {
     "data": {
      "text/plain": [
       "-27.46578232132179"
      ]
     },
     "execution_count": 9,
     "metadata": {},
     "output_type": "execute_result"
    }
   ],
   "source": [
    "#Max DD\n",
    "ret = returns['LBO (T+1) Return'].copy()/100 +1\n",
    "vami = np.multiply.accumulate(ret,0)\n",
    "end_date = np.argmax((np.maximum.accumulate(vami,0)- vami).values,axis=0)\n",
    "start_date = vami[:end_date].values.argmax()\n",
    "mdd = (vami[end_date]-vami[start_date])/vami[start_date]*100\n",
    "mdd"
   ]
  },
  {
   "cell_type": "code",
   "execution_count": 10,
   "metadata": {},
   "outputs": [
    {
     "data": {
      "text/plain": [
       "(-0.08735940556045425, 4.562810020483335)"
      ]
     },
     "execution_count": 10,
     "metadata": {},
     "output_type": "execute_result"
    }
   ],
   "source": [
    "#Skew & Kurtosis\n",
    "temps = []\n",
    "tempk = []\n",
    "avg = np.average(returns['LBO (T+1) Return'])\n",
    "std = np.std(returns['LBO (T+1) Return'])\n",
    "for i in range(len(returns)):\n",
    "    temps.append((returns['LBO (T+1) Return'].values[i] - avg)**3)  \n",
    "    tempk.append((returns['LBO (T+1) Return'].values[i] - avg)**4)    \n",
    "skew = (np.average(temps)/std**3)\n",
    "kurt = (np.average(tempk)/std**4) - 3\n",
    "skew,kurt"
   ]
  }
 ],
 "metadata": {
  "kernelspec": {
   "display_name": "Python 3",
   "language": "python",
   "name": "python3"
  },
  "language_info": {
   "codemirror_mode": {
    "name": "ipython",
    "version": 3
   },
   "file_extension": ".py",
   "mimetype": "text/x-python",
   "name": "python",
   "nbconvert_exporter": "python",
   "pygments_lexer": "ipython3",
   "version": "3.7.1"
  }
 },
 "nbformat": 4,
 "nbformat_minor": 2
}
